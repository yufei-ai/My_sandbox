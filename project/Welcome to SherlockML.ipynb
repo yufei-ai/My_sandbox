{
 "cells": [
  {
   "cell_type": "markdown",
   "metadata": {},
   "source": [
    "<img src=\"http://d3ovrxil82hylz.cloudfront.net/logo.png\" alt=\"SherlockML\" style=\"width: 200px; float: right; margin-right:10px; margin-top:10px\"/>\n",
    "\n",
    "# Welcome to SherlockML. "
   ]
  },
  {
   "cell_type": "markdown",
   "metadata": {},
   "source": [
    "SherlockML is today’s tool of choice for data scientists to work faster and collaborate more effectively. \n",
    "\n",
    "It offers a powerful and secure cloud-based environment for:\n",
    "* Huge amounts of data storage\n",
    "* Scalable servers (that you can SSH onto)\n",
    "* Python and R development environments\n",
    "* Collaboration tools"
   ]
  },
  {
   "cell_type": "markdown",
   "metadata": {},
   "source": [
    "## Getting started\n",
    "\n",
    "This is your first project. Each project has a shared filesystem and development environment that we call the workspace. \n",
    "\n",
    "This project comes preloaded with examples of how to use SherlockML and materials introducing some key concepts of data science.\n",
    "\n",
    "In **Explore SherlockML** you can try out sample notebooks that show off some of the power of SherlockML.\n",
    "* Use TensorFlow to perform image recognition\n",
    "* Use NLP to analyse a set of over 1000 Associated Press news articles.\n",
    "* Understand your customers with a custom library called Customer Intelligence\n",
    "* Learn how to scale to larger servers\n",
    "\n",
    "In **Learn Data Science** we provide tutorials on a variety of common data science techniques. These are perfect if you are new to data science or require a refresher.\n",
    "* Linear regression\n",
    "* Random forests\n",
    "* K-means clustering\n",
    "* Data visualisation\n"
   ]
  },
  {
   "cell_type": "markdown",
   "metadata": {},
   "source": [
    "## What's next?\n",
    "* Upload some data and create a Lens report\n",
    "* Go to the servers tab and create a custom environment that you can share with your team\n",
    "* Publish a report and invite someone to your project\n",
    "* Create and host an API on SherlockML\n",
    "* Give us feedback through the live chat in the bottom left"
   ]
  },
  {
   "cell_type": "markdown",
   "metadata": {},
   "source": [
    "For detailed information, check out the docs at http://docs.sherlockml.com"
   ]
  },
  {
   "cell_type": "markdown",
   "metadata": {},
   "source": [
    "Get in touch via the blue icon on the left or hello@sherlockml.com"
   ]
  }
 ],
 "metadata": {
  "anaconda-cloud": {},
  "kernelspec": {
   "display_name": "Python [conda env:Python3]",
   "language": "python",
   "name": "conda-env-Python3-py"
  },
  "language_info": {
   "codemirror_mode": {
    "name": "ipython",
    "version": 3
   },
   "file_extension": ".py",
   "mimetype": "text/x-python",
   "name": "python",
   "nbconvert_exporter": "python",
   "pygments_lexer": "ipython3",
   "version": "3.6.1"
  }
 },
 "nbformat": 4,
 "nbformat_minor": 2
}
