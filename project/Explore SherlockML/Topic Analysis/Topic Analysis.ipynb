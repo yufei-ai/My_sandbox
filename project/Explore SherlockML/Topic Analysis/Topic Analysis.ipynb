{
 "cells": [
  {
   "cell_type": "markdown",
   "metadata": {},
   "source": [
    "# Interactive Topic Analysis"
   ]
  },
  {
   "cell_type": "markdown",
   "metadata": {},
   "source": [
    "The HTML format of Sherlock reports allows you to easily interact with the results of your analysis. To demonstrate this feature, we will model the set of topics appearing in a set of over 1000 Associated Press news articles. For this notebook to run properly you need to have the package `pyLDAvis` installed on your server. You can install it by running \n",
    "\n",
    ">```pip install pyldavis ```\n",
    "\n",
    "on the terminal, or alternatively you can apply the pre-defined environment to your server. You can do this from the servers tab.\n",
    "\n",
    "The mathematical model we use to extract a set of unknown topics from a set of documents is called \"Latent Dirichlet Allocation\". Roughly speaking, it assumes that\n",
    "* Each topic is characterized by a distribution over some vocabulary.\n",
    "* Each document is generated as follows:\n",
    "    * randomly select the number of words in the document;\n",
    "    * randomly select a distribution of topics for this document;\n",
    "    * generate each word in the document by first choosing a topic according to the chosen topic distribution, and then choose the word according to the vocabulary distribution that the topic defines.\n",
    "    \n",
    "When we *fit* the model to a set of documents, we aim to recover the topic-word probabilities, as well as the document-topic probabilities. You can read more about LDA here: https://www.seas.harvard.edu/courses/cs281/papers/blei-ng-jordan-2003.pdf."
   ]
  },
  {
   "cell_type": "code",
   "execution_count": 1,
   "metadata": {
    "collapsed": true
   },
   "outputs": [],
   "source": [
    "#Necessary imports\n",
    "import nltk\n",
    "import numpy as np\n",
    "import os\n",
    "import pandas as pd\n",
    "import pyLDAvis\n",
    "import re\n",
    "import string\n",
    "import warnings\n",
    "import zipfile\n",
    "\n",
    "from nltk import pos_tag\n",
    "from nltk.corpus import stopwords\n",
    "from nltk.corpus import wordnet\n",
    "from nltk.stem.wordnet import WordNetLemmatizer\n",
    "from nltk.tokenize import word_tokenize\n",
    "from sklearn.decomposition import LatentDirichletAllocation as LDA"
   ]
  },
  {
   "cell_type": "markdown",
   "metadata": {},
   "source": [
    "## Text preprocessing and model fitting"
   ]
  },
  {
   "cell_type": "markdown",
   "metadata": {},
   "source": [
    "\n",
    "In what follows, we preprocess the text files. This involves tokenizing the documents (i.e. splitting the raw text into a list of words), removing common stopwords (such as \"the\", \"that\", etc which do not contain a lot of information), stemming words (i.e. reducing them to their \"root\": for example \"navigates\" might be stemmed to \"navigate\") and only keeping nouns. There are many ways to go about text preprocessing -  this is only a \"quick and dirty\" way of preprocessing the files! For this task, we'll use the `nltk` library (Natural Language Toolkit) which contains a set of very useful tools for text processing. More guidelines on how to preprocess text data can be found here: https://de.dariah.eu/tatom/preprocessing.html."
   ]
  },
  {
   "cell_type": "code",
   "execution_count": 2,
   "metadata": {
    "collapsed": true
   },
   "outputs": [],
   "source": [
    "nltk.download('stopwords', quiet=True);\n",
    "nltk.download('wordnet', quiet=True);\n",
    "nltk.download('averaged_perceptron_tagger', quiet=True);\n",
    "nltk.download('punkt', quiet=True);"
   ]
  },
  {
   "cell_type": "code",
   "execution_count": 3,
   "metadata": {},
   "outputs": [],
   "source": [
    "#Read in the data\n",
    "docs = []\n",
    "with zipfile.ZipFile('data/ap.zip', 'r') as zip_file:\n",
    "    for file_name in zip_file.namelist():\n",
    "        with zip_file.open(file_name) as f:\n",
    "            for line in f:\n",
    "                docs.append(str(line))"
   ]
  },
  {
   "cell_type": "code",
   "execution_count": 4,
   "metadata": {
    "collapsed": true
   },
   "outputs": [],
   "source": [
    "#Define a function that converts a Part Of Speech tag\n",
    "#(aka POS tag - see https://en.wikipedia.org/wiki/Part-of-speech_tagging) tag  \n",
    "#to a format understandable by the Wordnet Lemmatizer. \n",
    "\n",
    "def get_wordnet_pos(treebank_tag):\n",
    "    \"\"\"Convert a POS tag into a format understandable by the Wordnet lemmatizer.\"\"\"\n",
    "    if treebank_tag.startswith('J'):\n",
    "        return wordnet.ADJ\n",
    "    elif treebank_tag.startswith('V'):\n",
    "        return wordnet.VERB\n",
    "    elif treebank_tag.startswith('N'):\n",
    "        return wordnet.NOUN\n",
    "    elif treebank_tag.startswith('R'):\n",
    "        return wordnet.ADV\n",
    "    else:\n",
    "        return ''"
   ]
  },
  {
   "cell_type": "code",
   "execution_count": 5,
   "metadata": {
    "collapsed": true
   },
   "outputs": [],
   "source": [
    "#Preprocessing function to apply to each document\n",
    "lemmatiser = WordNetLemmatizer()\n",
    "punct = string.punctuation\n",
    "s=set(stopwords.words('english'))\n",
    "\n",
    "def process(doc):\n",
    "    words = word_tokenize(doc)\n",
    "    words = [x.lower() for x in words]\n",
    "    words_pos = pos_tag(words)\n",
    "    words = [lemmatiser.lemmatize(x[0], pos = get_wordnet_pos(x[1])) \n",
    "             for x in words_pos if (len(x[0]) >=3) and (not x[0] in s) and x[1] == 'NN' \n",
    "             and not any(char in punct for char in x[0])]\n",
    "    return words\n"
   ]
  },
  {
   "cell_type": "code",
   "execution_count": 6,
   "metadata": {
    "collapsed": true
   },
   "outputs": [],
   "source": [
    "#Process the documents\n",
    "docs = [process(x) for x in docs]"
   ]
  },
  {
   "cell_type": "code",
   "execution_count": 7,
   "metadata": {
    "collapsed": true
   },
   "outputs": [],
   "source": [
    "#Create the vocabulary\n",
    "vocab = set([])\n",
    "for words in docs:\n",
    "    vocab |= set(words)\n",
    "vocab=list(vocab)"
   ]
  },
  {
   "cell_type": "code",
   "execution_count": 8,
   "metadata": {
    "collapsed": true
   },
   "outputs": [],
   "source": [
    "#Create a dictionary relating a word to its index in vocab\n",
    "word_index_tuples = zip(vocab, [i for i in range(len(vocab))])\n",
    "word_to_index =  dict(word_index_tuples)"
   ]
  },
  {
   "cell_type": "code",
   "execution_count": 9,
   "metadata": {
    "collapsed": true
   },
   "outputs": [],
   "source": [
    "#Create the doc_word_freq matrix\n",
    "doc_word_freq = []\n",
    "for words in docs:\n",
    "    word_freq = np.zeros(len(vocab))\n",
    "    for w in words:\n",
    "        word_freq[word_to_index[w]] += 1\n",
    "    doc_word_freq.append(word_freq)\n",
    "doc_word_freq = np.array(doc_word_freq)"
   ]
  },
  {
   "cell_type": "markdown",
   "metadata": {},
   "source": [
    "Now that we are done preparing the data, let us fit the model. This might take a while."
   ]
  },
  {
   "cell_type": "code",
   "execution_count": 10,
   "metadata": {
    "collapsed": true,
    "scrolled": true
   },
   "outputs": [],
   "source": [
    "lda = LDA(n_topics=10,\n",
    "          max_iter=100, \n",
    "          learning_method='online', \n",
    "          learning_offset=10.,\n",
    "          random_state=0,\n",
    "          n_jobs = 1,\n",
    "          evaluate_every=1,\n",
    "          verbose=0).fit(doc_word_freq)"
   ]
  },
  {
   "cell_type": "markdown",
   "metadata": {},
   "source": [
    "## Visualisation"
   ]
  },
  {
   "cell_type": "markdown",
   "metadata": {},
   "source": [
    "You will find below an interactive visualisation of the topics discovered by the LDA algorithm. On the left-hand side, each topic is displayed in such a way that similar topic are closer to each other. The relative size of the topics indicate their relative prevalence amongst all the documents. When clicking on a topic, a list of terms for this topic is displayed on the right-hand side, in increasing order of *relevance*. \n",
    "\n",
    "The *relevance* of a term for a given topic is a measure of how useful this term is in identifying the topic. It depends on two quantities: the marginal probability of the word given the topic, and the ratio of the marginal probability to the overall probability for this word to appear in the whole corpus. The value of the $\\lambda$ parameter (top right) defines how important each quantity is when computing the relevance. When $\\lambda = 1$, only the marginal probability is taken into account, while when $\\lambda =0$ only the ratio of marginal probability to the overall probability is taken into account. Typically, a value of $\\lambda = 0.6$ yields good results. More details on this can be found in this paper: https://nlp.stanford.edu/events/illvi2014/papers/sievert-illvi2014.pdf. \n",
    "\n",
    "When you click on a specific term, the conditional distribution of the term for each topic will be displayed on the right-hand side."
   ]
  },
  {
   "cell_type": "code",
   "execution_count": 11,
   "metadata": {
    "collapsed": true
   },
   "outputs": [],
   "source": [
    "topic_word_dists =  lda.components_/np.sum(lda.components_, axis=1, keepdims=True)\n",
    "doc_word_dists = doc_word_freq/np.sum(doc_word_freq, axis=1, keepdims=True)\n",
    "doc_topic_dists = lda.transform(doc_word_freq)\n",
    "doc_lengths = np.sum(doc_word_freq, axis=1)\n",
    "word_freqs = np.sum(doc_word_freq, axis=0)"
   ]
  },
  {
   "cell_type": "code",
   "execution_count": 12,
   "metadata": {
    "collapsed": true
   },
   "outputs": [],
   "source": [
    "#The pyldavis package uses a deprecated pandas functinality, let's make it quiet.\n",
    "warnings.filterwarnings(\"ignore\")"
   ]
  },
  {
   "cell_type": "code",
   "execution_count": 13,
   "metadata": {
    "collapsed": true
   },
   "outputs": [],
   "source": [
    "vis = pyLDAvis.prepare(topic_word_dists, lda.transform(doc_word_dists), doc_lengths, list(vocab), word_freqs, R=8)"
   ]
  },
  {
   "cell_type": "code",
   "execution_count": 14,
   "metadata": {},
   "outputs": [
    {
     "data": {
      "text/html": [
       "\n",
       "<link rel=\"stylesheet\" type=\"text/css\" href=\"https://cdn.rawgit.com/bmabey/pyLDAvis/files/ldavis.v1.0.0.css\">\n",
       "\n",
       "\n",
       "<div id=\"ldavis_el10661402645890824406533718871\"></div>\n",
       "<script type=\"text/javascript\">\n",
       "\n",
       "var ldavis_el10661402645890824406533718871_data = {\"mdsDat\": {\"Freq\": [28.4359979745199, 15.246395779765592, 9.432971897971612, 8.387385984901245, 7.515924732861913, 6.894011929073199, 6.626340639170651, 6.354706418115966, 5.598641760498716, 5.507622883121211], \"cluster\": [1, 1, 1, 1, 1, 1, 1, 1, 1, 1], \"topics\": [1, 2, 3, 4, 5, 6, 7, 8, 9, 10], \"x\": [-0.2210172916768377, -0.14881576912320602, -0.16243318019536512, -0.1127655885780082, 0.10097600323884295, 0.11697099410921982, 0.09788255264269455, 0.04507574693412658, 0.14048740471974078, 0.14363912792879302], \"y\": [0.039027268266320705, 0.16768647641699536, -0.07912143162069389, -0.13369384073303367, 0.19050134210796346, 0.06316048903313431, -0.10297335961360211, -0.09904044762305962, -0.03615476483914907, -0.00939173139487565]}, \"tinfo\": {\"Category\": [\"Default\", \"Default\", \"Default\", \"Default\", \"Default\", \"Default\", \"Default\", \"Default\", \"Topic1\", \"Topic1\", \"Topic1\", \"Topic1\", \"Topic1\", \"Topic1\", \"Topic1\", \"Topic1\", \"Topic1\", \"Topic1\", \"Topic1\", \"Topic1\", \"Topic1\", \"Topic1\", \"Topic1\", \"Topic1\", \"Topic2\", \"Topic2\", \"Topic2\", \"Topic2\", \"Topic2\", \"Topic2\", \"Topic2\", \"Topic2\", \"Topic2\", \"Topic2\", \"Topic2\", \"Topic2\", \"Topic2\", \"Topic2\", \"Topic2\", \"Topic2\", \"Topic2\", \"Topic3\", \"Topic3\", \"Topic3\", \"Topic3\", \"Topic3\", \"Topic3\", \"Topic3\", \"Topic3\", \"Topic3\", \"Topic3\", \"Topic3\", \"Topic3\", \"Topic3\", \"Topic3\", \"Topic3\", \"Topic3\", \"Topic3\", \"Topic3\", \"Topic3\", \"Topic4\", \"Topic4\", \"Topic4\", \"Topic4\", \"Topic4\", \"Topic4\", \"Topic4\", \"Topic4\", \"Topic4\", \"Topic4\", \"Topic4\", \"Topic4\", \"Topic4\", \"Topic4\", \"Topic4\", \"Topic4\", \"Topic4\", \"Topic5\", \"Topic5\", \"Topic5\", \"Topic5\", \"Topic5\", \"Topic5\", \"Topic5\", \"Topic5\", \"Topic5\", \"Topic5\", \"Topic5\", \"Topic5\", \"Topic5\", \"Topic5\", \"Topic5\", \"Topic5\", \"Topic5\", \"Topic5\", \"Topic5\", \"Topic6\", \"Topic6\", \"Topic6\", \"Topic6\", \"Topic6\", \"Topic6\", \"Topic6\", \"Topic6\", \"Topic6\", \"Topic6\", \"Topic6\", \"Topic6\", \"Topic6\", \"Topic6\", \"Topic6\", \"Topic7\", \"Topic7\", \"Topic7\", \"Topic7\", \"Topic7\", \"Topic7\", \"Topic7\", \"Topic7\", \"Topic7\", \"Topic7\", \"Topic7\", \"Topic7\", \"Topic7\", \"Topic7\", \"Topic7\", \"Topic8\", \"Topic8\", \"Topic8\", \"Topic8\", \"Topic8\", \"Topic8\", \"Topic8\", \"Topic8\", \"Topic8\", \"Topic8\", \"Topic8\", \"Topic8\", \"Topic8\", \"Topic8\", \"Topic8\", \"Topic8\", \"Topic8\", \"Topic9\", \"Topic9\", \"Topic9\", \"Topic9\", \"Topic9\", \"Topic9\", \"Topic9\", \"Topic9\", \"Topic9\", \"Topic9\", \"Topic9\", \"Topic9\", \"Topic9\", \"Topic9\", \"Topic9\", \"Topic9\", \"Topic10\", \"Topic10\", \"Topic10\", \"Topic10\", \"Topic10\", \"Topic10\", \"Topic10\", \"Topic10\", \"Topic10\", \"Topic10\", \"Topic10\", \"Topic10\", \"Topic10\", \"Topic10\"], \"Freq\": [291.0, 572.0, 218.0, 366.0, 248.0, 191.0, 185.0, 156.0, 283.07026755926404, 112.27312787650241, 108.99489119370884, 105.7304688666891, 95.41966067655167, 79.53643808261685, 78.71025060708754, 66.561973792954, 191.67701989216383, 436.6634129857648, 405.8174474956655, 172.65867617085354, 303.1748262162549, 188.8485951217807, 267.1589212934793, 199.80161862998406, 126.0942585195576, 85.62400877224105, 111.35594022726387, 38.74363416162569, 38.33957394367586, 32.480456169605446, 31.66237120136836, 29.248845935387646, 234.7543723577253, 127.06439036586595, 142.1955701695544, 57.74606668812049, 49.84085511721595, 64.42016734073256, 104.24275990989271, 143.93805361153858, 157.46504884384433, 184.45785074155802, 29.416356720658595, 27.424297397545363, 25.390381599662984, 24.99273306417315, 36.77477769091643, 21.375353303652027, 21.28972693926911, 53.631274960849794, 52.604991079222216, 58.710599981397394, 52.12028541216474, 139.30376694316692, 94.75889150624403, 52.75272143084085, 71.33953019851161, 66.64100959490735, 63.88266992853166, 55.56179014178622, 48.26768920819671, 40.68965134968548, 32.74139496448748, 30.567584418968778, 29.529846353782776, 28.59290726591528, 25.39691542797843, 25.077764889754683, 59.808781699180265, 189.8257923007105, 64.58395212250444, 109.37616700588023, 58.64296619296091, 77.98698815059991, 122.22716689018229, 111.897177172233, 72.54957195949511, 29.488505355175693, 25.373786711055345, 22.462321581827997, 22.462311238286983, 17.496739522808113, 16.981004594577993, 15.827654813852245, 14.971280565958503, 35.72974140046436, 22.88386640185325, 99.58058639000784, 29.064782689738543, 51.6563009297357, 27.98794821084071, 47.658516448632405, 48.67065760563367, 51.6488677795091, 34.63609882176633, 33.571165351440406, 31.964919640266885, 25.319579361111508, 23.42203484870322, 21.672364061494342, 31.082820079432985, 20.24167621036521, 20.036914299580072, 18.555135923543897, 31.549062509521292, 136.4429747099564, 38.80564464707773, 40.53570953709357, 56.02642319003925, 53.777452689282455, 34.35307854766322, 217.00242468321167, 155.30415331922254, 51.6268049063888, 37.21474867438918, 37.12385246600902, 36.075291495326105, 123.91761580938879, 26.309491640282683, 277.91020904684433, 54.60755895895642, 44.52744093324472, 41.16838961550885, 64.56817302691081, 58.133994832158194, 95.95518077358038, 112.92431626976422, 52.09308470192326, 44.27802213973868, 31.858901368863343, 23.989109915108404, 22.973147589286437, 22.429730455871763, 21.53520648066778, 28.608483471319488, 44.45160863118052, 40.56020090443047, 42.77254779478001, 71.19369292512363, 66.48108176117114, 117.98539788747215, 52.16617027333692, 46.40237066472301, 71.1602436374139, 48.86825506981599, 45.02395426982451, 38.54835354606965, 34.29060979180385, 34.009697092115005, 27.643087161615313, 26.507554548304455, 64.75722683987951, 32.02425008061328, 135.60434136476948, 98.21179793055543, 52.56037352995253, 159.5632446183057, 77.02573419401712, 58.821146535720246, 55.15105792467072, 48.278634128293575, 38.99458540381992, 35.86252847085011, 28.20613480661448, 28.032950725250842, 63.187596359568424, 19.142460638626865, 27.414147253698935, 47.61261090304387, 65.89367273994615, 56.910676505610105, 64.2635863315278, 75.39369376668593], \"Term\": [\"oil\", \"percent\", \"iraq\", \"company\", \"trade\", \"share\", \"gorbachev\", \"kuwait\", \"bush\", \"campaign\", \"dukakis\", \"dollar\", \"bank\", \"election\", \"jackson\", \"rate\", \"house\", \"percent\", \"president\", \"party\", \"year\", \"today\", \"government\", \"state\", \"judge\", \"trial\", \"prison\", \"sentence\", \"disease\", \"arrest\", \"fbi\", \"lawsuit\", \"court\", \"attorney\", \"case\", \"jury\", \"murder\", \"justice\", \"office\", \"police\", \"state\", \"gorbachev\", \"ta\", \"mikhail\", \"immigration\", \"aviation\", \"lithuania\", \"nasa\", \"yeltsin\", \"moscow\", \"pentagon\", \"space\", \"aircraft\", \"union\", \"air\", \"contract\", \"defense\", \"government\", \"president\", \"report\", \"rain\", \"corn\", \"bushel\", \"drought\", \"crop\", \"wheat\", \"fair\", \"grain\", \"agriculture\", \"trade\", \"cent\", \"japan\", \"plant\", \"agreement\", \"percent\", \"year\", \"report\", \"video\", \"actress\", \"sexuality\", \"blockbuster\", \"erol\", \"wedding\", \"bride\", \"ticketron\", \"music\", \"singer\", \"school\", \"actor\", \"care\", \"dress\", \"education\", \"health\", \"year\", \"john\", \"city\", \"monet\", \"auction\", \"haiti\", \"namphy\", \"museum\", \"sotheby\", \"ash\", \"toussaint\", \"collection\", \"germany\", \"berlin\", \"art\", \"church\", \"africa\", \"city\", \"iraq\", \"kuwait\", \"saddam\", \"iraqi\", \"crude\", \"baghdad\", \"gulf\", \"richter\", \"oil\", \"arabia\", \"barrel\", \"saudi\", \"crisis\", \"baker\", \"war\", \"israel\", \"cnn\", \"menem\", \"plo\", \"chamorro\", \"cairo\", \"arafat\", \"cambodia\", \"shultz\", \"turkey\", \"egypt\", \"assembly\", \"aid\", \"peace\", \"government\", \"attack\", \"minister\", \"pope\", \"inheritance\", \"macmillan\", \"polaroid\", \"shamrock\", \"maxwell\", \"batus\", \"retailer\", \"takeover\", \"pillsbury\", \"share\", \"offer\", \"merger\", \"company\", \"stock\", \"york\", \"beirut\", \"ira\", \"dhaka\", \"corroon\", \"geagea\", \"aoun\", \"ireland\", \"belfast\", \"checkpoint\", \"lebanon\", \"bomb\", \"film\", \"army\", \"police\"], \"Total\": [291.0, 572.0, 218.0, 366.0, 248.0, 191.0, 185.0, 156.0, 284.3467358052014, 113.54959683033191, 110.27127430053595, 107.00685065530803, 96.7030556171849, 80.81291423847627, 79.98665225327542, 67.84042544605839, 219.89415411847608, 572.3678629678564, 528.1120982074818, 217.78761070924756, 555.9823707257372, 294.70544928492393, 569.6783475417984, 383.9644283393422, 127.36166192267783, 86.88994074886405, 113.60888698141655, 40.00950549688088, 39.6066038937028, 33.7493217778865, 32.94094293089493, 30.514775189729612, 250.54444117545611, 134.96804212289558, 158.70725114485447, 61.55947372360289, 53.44005873645485, 72.12607746228444, 175.29111775347303, 314.9080456553356, 383.9644283393422, 185.704778485694, 30.66327017003439, 28.67134845645124, 26.637436668085115, 26.241146503666837, 38.84475929648817, 22.622261436075107, 22.53663503640707, 57.93808409273409, 60.17614091633207, 70.11241609306587, 63.39807946135398, 248.8500742197023, 161.57514422785925, 73.48003634657417, 183.70892940676495, 569.6783475417984, 528.1120982074818, 215.40383642842838, 49.50611737291129, 41.92484936293479, 33.97658412249144, 31.80292873442128, 30.765088744733504, 29.82830901674999, 26.63212760378588, 26.312972801974688, 64.4969493612261, 248.7441028950903, 83.88052595078574, 166.27980013700056, 83.56777578853645, 189.56227704308318, 572.3678629678564, 555.9823707257372, 215.40383642842838, 30.709132984301327, 26.59379126565068, 23.682266163187442, 23.682262140137436, 18.71668992240684, 18.200961922190128, 17.047604736267882, 16.19122166102912, 39.0024739861202, 24.900437336865245, 147.927867998914, 34.79869375130636, 74.17400124946388, 33.94863768593998, 84.02062871346361, 126.00028910213844, 555.9823707257372, 173.12976520890763, 259.0608046641336, 33.16603966161436, 26.52143916998622, 24.623246122215008, 22.873485777851272, 32.91087341616281, 21.44283592312321, 21.238113107030212, 19.75626778073608, 34.87385850532113, 176.36512425272534, 44.74279238046841, 47.742427399931664, 94.47856376388873, 96.93292272799614, 259.0608046641336, 218.20345865226335, 156.50523824973016, 52.8277945214497, 38.41576059608994, 38.32482579028523, 37.27628330492322, 129.38095756120666, 27.51045351007996, 291.4542420359788, 59.521732603227306, 48.746252809444925, 44.69939644943682, 89.50210167408451, 83.47233872572565, 252.94211783341035, 114.11275190765099, 53.28143202742406, 45.46635917603226, 33.04724352265637, 25.17744522067591, 24.16151831053477, 23.618088911414624, 22.723546235010005, 30.429781172411666, 53.62765129408657, 48.618982039916176, 52.37089085666862, 125.60649801343135, 117.28576128963982, 569.6783475417984, 129.00940383206918, 197.58502738316892, 72.26883502503456, 49.97678852457315, 46.13248366316455, 39.65688327304402, 35.399139432102174, 35.11828550904126, 28.75161852592161, 27.616101431429403, 73.15435155663384, 34.019619635336824, 191.26061860911582, 144.1473463309816, 64.06973182400745, 366.71567140555624, 188.28288904110963, 280.38330990224694, 56.24272203994935, 49.370244821913936, 40.086243946732566, 36.95418129451244, 29.297744787825657, 29.124560909128082, 66.4225930721316, 20.234178397744426, 29.79829500764389, 54.63585432684437, 88.09793325217608, 82.08492848059429, 166.2961269261388, 314.9080456553356], \"loglift\": [8.0, 7.0, 6.0, 5.0, 4.0, 3.0, 2.0, 1.0, 1.253, 1.2462, 1.2459, 1.2455, 1.2442, 1.2416, 1.2414, 1.2385, 1.1202, 0.9869, 0.9941, 1.0253, 0.6511, 0.8125, 0.5003, 0.6043, 1.8708, 1.8662, 1.8608, 1.8487, 1.8483, 1.8425, 1.8412, 1.8385, 1.8157, 1.8205, 1.771, 1.8169, 1.8111, 1.7678, 1.3611, 1.0979, 0.9895, 2.3542, 2.3194, 2.3165, 2.313, 2.3122, 2.3062, 2.3043, 2.304, 2.2837, 2.2265, 2.1835, 2.1651, 1.7808, 1.8273, 2.0296, 1.4151, 0.2152, 0.2487, 1.0059, 2.4531, 2.4485, 2.4414, 2.4388, 2.4375, 2.4361, 2.431, 2.4304, 2.403, 2.2081, 2.217, 2.0596, 2.1243, 1.5903, 0.9345, 0.8753, 1.3902, 2.5476, 2.5412, 2.5353, 2.5353, 2.5207, 2.5188, 2.5139, 2.5098, 2.5005, 2.5037, 2.1924, 2.4081, 2.2263, 2.3951, 2.0211, 1.6369, 0.2119, 0.979, 0.5448, 2.6376, 2.6281, 2.6245, 2.6206, 2.6174, 2.6169, 2.6163, 2.6118, 2.5743, 2.4179, 2.5322, 2.5109, 2.152, 2.0854, 0.6541, 2.7086, 2.7064, 2.6911, 2.6824, 2.6823, 2.6814, 2.671, 2.6695, 2.6665, 2.6279, 2.6236, 2.6318, 2.3876, 2.3524, 1.7448, 2.7455, 2.7334, 2.7295, 2.7194, 2.7076, 2.7055, 2.7043, 2.7023, 2.6943, 2.5683, 2.5747, 2.5535, 2.1882, 2.1883, 1.1815, 1.8505, 1.3072, 2.8672, 2.8602, 2.8583, 2.8543, 2.8508, 2.8506, 2.8433, 2.8417, 2.7607, 2.8222, 2.5388, 2.4989, 2.6846, 2.0505, 1.9888, 1.321, 2.8794, 2.8767, 2.8714, 2.8691, 2.8611, 2.8608, 2.8491, 2.8436, 2.8156, 2.7614, 2.6086, 2.5328, 1.9483, 1.4695], \"logprob\": [8.0, 7.0, 6.0, 5.0, 4.0, 3.0, 2.0, 1.0, -4.6149, -5.5397, -5.5693, -5.5997, -5.7023, -5.8844, -5.8948, -6.0625, -5.0048, -4.1814, -4.2547, -5.1093, -4.5463, -5.0197, -4.6728, -4.9633, -4.8003, -5.1873, -4.9246, -5.9803, -5.9908, -6.1566, -6.1822, -6.2614, -4.1787, -4.7926, -4.6801, -5.5812, -5.7284, -5.4719, -4.9906, -4.6679, -4.5781, -3.9397, -5.7756, -5.8457, -5.9228, -5.9386, -5.5523, -6.0949, -6.0989, -5.175, -5.1943, -5.0845, -5.2036, -4.2205, -4.6058, -5.1915, -4.8897, -4.9578, -5.0001, -5.1397, -5.1629, -5.3337, -5.551, -5.6197, -5.6543, -5.6865, -5.805, -5.8177, -4.9485, -3.7936, -4.8717, -4.3449, -4.9682, -4.6831, -4.2338, -4.3221, -4.7554, -5.546, -5.6962, -5.8181, -5.8181, -6.068, -6.0979, -6.1682, -6.2238, -5.354, -5.7995, -4.329, -5.5604, -4.9854, -5.5982, -5.0659, -5.0449, -4.9855, -5.3851, -5.4163, -5.379, -5.612, -5.6899, -5.7676, -5.4069, -5.8359, -5.846, -5.9228, -5.3921, -3.9277, -5.185, -5.1414, -4.8178, -4.8587, -5.3069, -3.4241, -3.7586, -4.86, -5.1873, -5.1897, -5.2184, -3.9844, -5.5341, -3.1767, -4.8038, -5.0079, -5.0863, -4.6363, -4.7412, -4.2401, -4.0354, -4.8091, -4.9716, -5.3008, -5.5845, -5.6278, -5.6518, -5.6924, -5.4084, -4.9677, -5.0594, -5.0062, -4.4967, -4.5652, -3.9916, -4.8077, -4.9248, -4.3705, -4.7463, -4.8283, -4.9836, -5.1006, -5.1088, -5.3161, -5.358, -4.4648, -5.169, -3.7257, -4.0483, -4.6735, -3.563, -4.2913, -4.561, -4.609, -4.7421, -4.9557, -5.0394, -5.2795, -5.2857, -4.473, -5.6672, -5.308, -4.756, -4.431, -4.5776, -4.4561, -4.2964]}, \"token.table\": {\"Topic\": [1, 2, 5, 6, 5, 1, 6, 8, 1, 2, 3, 4, 6, 8, 3, 4, 8, 1, 3, 4, 5, 8, 1, 2, 3, 1, 2, 3, 4, 6, 10, 1, 7, 8, 1, 2, 6, 10, 2, 1, 6, 6, 1, 3, 5, 8, 1, 2, 3, 8, 10, 1, 2, 8, 6, 3, 7, 1, 7, 1, 4, 7, 9, 10, 10, 1, 5, 6, 5, 1, 2, 10, 5, 1, 4, 8, 8, 1, 1, 2, 5, 1, 2, 4, 4, 7, 8, 7, 10, 1, 2, 5, 6, 1, 2, 3, 4, 5, 6, 8, 2, 4, 6, 1, 2, 3, 4, 6, 9, 2, 3, 4, 4, 10, 1, 2, 9, 1, 2, 3, 7, 4, 7, 1, 2, 3, 4, 8, 10, 2, 1, 3, 5, 6, 4, 1, 1, 5, 1, 7, 8, 1, 5, 4, 2, 1, 5, 10, 10, 1, 3, 6, 3, 1, 2, 3, 4, 6, 8, 4, 1, 4, 7, 6, 1, 2, 5, 1, 2, 3, 3, 9, 10, 7, 7, 1, 3, 10, 8, 1, 1, 4, 8, 1, 2, 3, 5, 9, 2, 2, 6, 1, 2, 3, 7, 2, 7, 10, 1, 3, 9, 9, 8, 1, 4, 9, 3, 1, 2, 3, 4, 6, 8, 6, 1, 2, 3, 1, 2, 1, 6, 1, 5, 6, 3, 1, 2, 3, 7, 9, 10, 1, 2, 3, 4, 4, 7, 1, 2, 3, 1, 6, 8, 1, 2, 3, 1, 2, 4, 6, 9, 1, 2, 3, 4, 8, 9, 1, 2, 6, 7, 10, 9, 1, 2, 3, 4, 8, 1, 2, 4, 1, 1, 2, 3, 4, 9, 7, 7, 7, 10, 1, 2, 3, 5, 2, 5, 9, 1, 2, 4, 9, 1, 8, 1, 5, 6, 1, 3, 4, 5, 1, 2, 8, 1, 4, 9, 3, 1, 2, 3, 9, 5, 1, 2, 3, 4, 7, 6, 1, 4, 8, 2, 4, 8, 1, 2, 3, 4, 8, 5, 1, 5, 6, 7, 8, 5, 4, 1, 2, 3, 4, 5, 3, 1, 2, 4, 5, 7, 9], \"Freq\": [0.057473421683390605, 0.028736710841695302, 0.8333646144091638, 0.057473421683390605, 0.9400690465782039, 0.15474618507162483, 0.5570862662578494, 0.2785431331289247, 0.13188277958023298, 0.09495560129776776, 0.17408526904590754, 0.4114742722903269, 0.09495560129776776, 0.08968029011455843, 0.031009218572473265, 0.9302765571741979, 0.031009218572473265, 0.2786480043115077, 0.0636909724140589, 0.03980685775878681, 0.03980685775878681, 0.5652573801747728, 0.3465879623231326, 0.06189070755770225, 0.5879617217981714, 0.015773348475162836, 0.047320045425488504, 0.8202141207084673, 0.03154669695032567, 0.06309339390065134, 0.9613878845199817, 0.06720234484207735, 0.9240322415785636, 0.9314894224725947, 0.463029424817572, 0.07216042984169953, 0.07216042984169953, 0.3848556258223975, 0.9481672020137393, 0.12567438077119195, 0.8587749352698117, 0.9417032435607298, 0.09547288423418765, 0.05728373054051259, 0.01909457684683753, 0.8210668044140138, 0.17828157728671448, 0.17828157728671448, 0.07751372925509324, 0.4030713921264849, 0.15502745851018648, 0.037045806706207045, 0.9409634903376589, 0.014818322682482817, 0.9426336119908605, 0.9527022760421918, 0.9657615193423896, 0.28752039737210994, 0.6948409603159323, 0.9823888127803663, 0.06154319208344829, 0.9231478812517244, 0.9738582186166677, 0.9779043048615847, 0.9390052626064618, 0.044699936986343766, 0.06704990547951566, 0.8716487712337035, 0.9289653104005514, 0.04540401632976103, 0.1929670694014844, 0.749166269441057, 0.9385482739379123, 0.995263755001837, 0.9712571423021606, 0.9519269320906736, 0.9681587447871476, 0.986353127852604, 0.16178175368538222, 0.12133631526403667, 0.7010542659699897, 0.06300909333293696, 0.8947291253277048, 0.03780545599976217, 0.7749116885382515, 0.21459092913366964, 0.9532341264033818, 0.03355896703967388, 0.9060921100711947, 0.14818176147329445, 0.07409088073664723, 0.16935058454090796, 0.5927270458931778, 0.3782895684549994, 0.30880781098367294, 0.023160585823775472, 0.023160585823775472, 0.13124331966806102, 0.13124331966806102, 0.975949744992505, 0.028674773680331868, 0.028674773680331868, 0.9175927577706198, 0.10089560628316088, 0.19361048773255196, 0.10907633111693069, 0.11180323939485394, 0.04635744072469554, 0.43630532446772274, 0.04082741584190667, 0.7212843465403511, 0.21774621782350223, 0.9779403056423993, 0.9741793415227378, 0.0439043865766581, 0.9379573495922412, 0.011973923611815845, 0.167593829859118, 0.022345843981215734, 0.07821045393425506, 0.7262399293895113, 0.9751312680720131, 0.9654316552530539, 0.2830564642008367, 0.21229234815062753, 0.3864809415049886, 0.01633018062697135, 0.09253769021950431, 0.9729023265892413, 0.9594359592654134, 0.9905907832148868, 0.05891252599005796, 0.8247753638608114, 0.08836878898508693, 0.9747529939419621, 0.9884713919504441, 0.41656436682187714, 0.5712882744985744, 0.04113619652418885, 0.10284049131047213, 0.8432920287458715, 0.9899407879775578, 0.9082802605843413, 0.9387158387017542, 0.9714354585152926, 0.024365008741803564, 0.28019760053074094, 0.6944027491414015, 0.9557049596402751, 0.18144176823840222, 0.039690386802150486, 0.7711275150132094, 0.9908199535865723, 0.46868553307690825, 0.1263871100432112, 0.11761022740132154, 0.0421290366810704, 0.036862907095936606, 0.20713443034859616, 0.9501016927332455, 0.015458225365613434, 0.015458225365613434, 0.958409972668033, 0.9340766804604808, 0.1904757534369235, 0.41269746578000094, 0.3888879966003855, 0.8731473593270375, 0.10914341991587968, 0.01364292748948496, 0.9385287447704395, 0.9804551562153123, 0.9722455331777953, 0.9944846948820311, 0.9631463603968304, 0.015055118352787736, 0.015055118352787736, 0.9484724562256274, 0.9902486629316283, 0.9876647887431116, 0.1744048283441912, 0.6555215961902358, 0.16237690914804007, 0.23681658639418363, 0.20216050058040066, 0.06931217162756594, 0.20216050058040066, 0.2830247008125609, 0.9893086985351643, 0.9421782950974428, 0.04873336009124704, 0.08318766542014529, 0.8873350978148831, 0.013864610903357548, 0.9903821861391738, 0.9503592872530996, 0.10981799541573208, 0.8785439633258566, 0.025743498430955827, 0.9525094419453656, 0.9754514915903215, 0.9681566029539411, 0.967748480357643, 0.015607994157785625, 0.15607994157785626, 0.8272236903626381, 0.941706667232975, 0.32391118318842704, 0.015183336711957518, 0.09616113250906427, 0.17207781606885186, 0.15689447935689435, 0.23281116291668194, 0.9648423606342149, 0.03451960884310319, 0.017259804421551596, 0.9320294387637862, 0.037425108566276205, 0.9356277141569052, 0.030385094535622124, 0.9419379306042859, 0.05127879838370611, 0.9230183709067099, 0.961812301529613, 0.9282891570916013, 0.020812037657020742, 0.0693734588567358, 0.0693734588567358, 0.11793488005645088, 0.6798598967960109, 0.027749383542694323, 0.3080589632381992, 0.5932987440143096, 0.03422877369313325, 0.05704795615522208, 0.041172843861091074, 0.9538375494486098, 0.7943518891483674, 0.013774888251127758, 0.188256806098746, 0.3239949980471896, 0.09378802575050225, 0.5627281545030135, 0.06647152740421715, 0.033235763702108574, 0.8807477381058771, 0.7634949973152869, 0.020965537683714973, 0.21314963311776888, 0.02939480249100966, 0.9406336797123092, 0.03589900498957075, 0.03589900498957075, 0.2153940299374245, 0.7060137647948914, 0.9683107148728333, 0.9834358320970088, 0.17465415939292026, 0.45727634459237304, 0.09209037495263069, 0.034930831878584055, 0.23816476280852764, 0.9824428465659503, 0.768776177213219, 0.026509523352179966, 0.12118639246710843, 0.013254761676089983, 0.07006088314504706, 0.00880212830677211, 0.9770362420517041, 0.9695771461622356, 0.9876117309033294, 0.37139542789239677, 0.032497099940584716, 0.2599767995246777, 0.3388983279518121, 0.9776904994008956, 0.9450952886135984, 0.9843303221543048, 0.9172383355640716, 0.06711500016322475, 0.09464072043614379, 0.16224123503338936, 0.06760051459724556, 0.6760051459724556, 0.9747683585602032, 0.928965152591587, 0.9604753263907498, 0.1829963755974793, 0.036599275119495865, 0.06797008236477803, 0.7110716308930625, 0.032862543254389975, 0.9530137543773093, 0.04015993721200607, 0.9236785558761397, 0.9327124486566954, 0.014262809010498501, 0.8415057316194116, 0.085576854062991, 0.0427884270314955, 0.5208815849556847, 0.4088920441902125, 0.06771460604423901, 0.5523603367765016, 0.031866942506336635, 0.40895909549798676, 0.9457569215282258, 0.013669726799858664, 0.027339453599717328, 0.06834863399929332, 0.8885322419908132, 0.9264279320011849, 0.6413183076817595, 0.13572874236650995, 0.08483046397906871, 0.08143724541990596, 0.05429149694660398, 0.9617201088216925, 0.19296939883734396, 0.7638372037311532, 0.04020195809111332, 0.9897578391561317, 0.1491767736783607, 0.8204722552309839, 0.2531644814555256, 0.016073935330509565, 0.5585692527352074, 0.05625877365678347, 0.11251754731356695, 0.9443444728584475, 0.31627789268645495, 0.05139515756154893, 0.08302294683019443, 0.3795334712237459, 0.16999936731896953, 0.9340165686119068, 0.9722307752583341, 0.5449813086779834, 0.08273643630094799, 0.07554196357912642, 0.2014452362110038, 0.09352814538368033, 0.9318161280987737, 0.4137193474192253, 0.09273019855948152, 0.08916365246103992, 0.10699638295324791, 0.08203056026415673, 0.21042621980805423], \"Term\": [\"actor\", \"actor\", \"actor\", \"actor\", \"actress\", \"africa\", \"africa\", \"africa\", \"agreement\", \"agreement\", \"agreement\", \"agreement\", \"agreement\", \"agreement\", \"agriculture\", \"agriculture\", \"agriculture\", \"aid\", \"aid\", \"aid\", \"aid\", \"aid\", \"air\", \"air\", \"air\", \"aircraft\", \"aircraft\", \"aircraft\", \"aircraft\", \"aircraft\", \"aoun\", \"arabia\", \"arabia\", \"arafat\", \"army\", \"army\", \"army\", \"army\", \"arrest\", \"art\", \"art\", \"ash\", \"assembly\", \"assembly\", \"assembly\", \"assembly\", \"attack\", \"attack\", \"attack\", \"attack\", \"attack\", \"attorney\", \"attorney\", \"attorney\", \"auction\", \"aviation\", \"baghdad\", \"baker\", \"baker\", \"bank\", \"barrel\", \"barrel\", \"batus\", \"beirut\", \"belfast\", \"berlin\", \"berlin\", \"berlin\", \"blockbuster\", \"bomb\", \"bomb\", \"bomb\", \"bride\", \"bush\", \"bushel\", \"cairo\", \"cambodia\", \"campaign\", \"care\", \"care\", \"care\", \"case\", \"case\", \"case\", \"cent\", \"cent\", \"chamorro\", \"checkpoint\", \"checkpoint\", \"church\", \"church\", \"church\", \"church\", \"city\", \"city\", \"city\", \"city\", \"city\", \"city\", \"cnn\", \"collection\", \"collection\", \"collection\", \"company\", \"company\", \"company\", \"company\", \"company\", \"company\", \"contract\", \"contract\", \"contract\", \"corn\", \"corroon\", \"court\", \"court\", \"court\", \"crisis\", \"crisis\", \"crisis\", \"crisis\", \"crop\", \"crude\", \"defense\", \"defense\", \"defense\", \"defense\", \"defense\", \"dhaka\", \"disease\", \"dollar\", \"dress\", \"dress\", \"dress\", \"drought\", \"dukakis\", \"education\", \"education\", \"egypt\", \"egypt\", \"egypt\", \"election\", \"erol\", \"fair\", \"fbi\", \"film\", \"film\", \"film\", \"geagea\", \"germany\", \"germany\", \"germany\", \"gorbachev\", \"government\", \"government\", \"government\", \"government\", \"government\", \"government\", \"grain\", \"gulf\", \"gulf\", \"gulf\", \"haiti\", \"health\", \"health\", \"health\", \"house\", \"house\", \"house\", \"immigration\", \"inheritance\", \"ira\", \"iraq\", \"iraqi\", \"ireland\", \"ireland\", \"ireland\", \"israel\", \"jackson\", \"japan\", \"japan\", \"japan\", \"john\", \"john\", \"john\", \"john\", \"john\", \"judge\", \"jury\", \"jury\", \"justice\", \"justice\", \"justice\", \"kuwait\", \"lawsuit\", \"lebanon\", \"lebanon\", \"lithuania\", \"lithuania\", \"macmillan\", \"maxwell\", \"menem\", \"merger\", \"merger\", \"merger\", \"mikhail\", \"minister\", \"minister\", \"minister\", \"minister\", \"minister\", \"minister\", \"monet\", \"moscow\", \"moscow\", \"moscow\", \"murder\", \"murder\", \"museum\", \"museum\", \"music\", \"music\", \"namphy\", \"nasa\", \"offer\", \"offer\", \"offer\", \"offer\", \"offer\", \"offer\", \"office\", \"office\", \"office\", \"office\", \"oil\", \"oil\", \"party\", \"party\", \"party\", \"peace\", \"peace\", \"peace\", \"pentagon\", \"pentagon\", \"pentagon\", \"percent\", \"percent\", \"percent\", \"pillsbury\", \"pillsbury\", \"plant\", \"plant\", \"plant\", \"plant\", \"plo\", \"polaroid\", \"police\", \"police\", \"police\", \"police\", \"police\", \"pope\", \"president\", \"president\", \"president\", \"president\", \"president\", \"prison\", \"prison\", \"rain\", \"rate\", \"report\", \"report\", \"report\", \"report\", \"retailer\", \"richter\", \"saddam\", \"saudi\", \"saudi\", \"school\", \"school\", \"school\", \"school\", \"sentence\", \"sexuality\", \"shamrock\", \"share\", \"share\", \"share\", \"share\", \"shultz\", \"shultz\", \"singer\", \"singer\", \"sotheby\", \"space\", \"space\", \"space\", \"space\", \"state\", \"state\", \"state\", \"stock\", \"stock\", \"stock\", \"ta\", \"takeover\", \"takeover\", \"takeover\", \"takeover\", \"ticketron\", \"today\", \"today\", \"today\", \"today\", \"today\", \"toussaint\", \"trade\", \"trade\", \"trade\", \"trial\", \"turkey\", \"turkey\", \"union\", \"union\", \"union\", \"union\", \"union\", \"video\", \"war\", \"war\", \"war\", \"war\", \"war\", \"wedding\", \"wheat\", \"year\", \"year\", \"year\", \"year\", \"year\", \"yeltsin\", \"york\", \"york\", \"york\", \"york\", \"york\", \"york\"]}, \"R\": 8, \"lambda.step\": 0.01, \"plot.opts\": {\"xlab\": \"PC1\", \"ylab\": \"PC2\"}, \"topic.order\": [7, 10, 8, 6, 5, 3, 4, 1, 9, 2]};\n",
       "\n",
       "function LDAvis_load_lib(url, callback){\n",
       "  var s = document.createElement('script');\n",
       "  s.src = url;\n",
       "  s.async = true;\n",
       "  s.onreadystatechange = s.onload = callback;\n",
       "  s.onerror = function(){console.warn(\"failed to load library \" + url);};\n",
       "  document.getElementsByTagName(\"head\")[0].appendChild(s);\n",
       "}\n",
       "\n",
       "if(typeof(LDAvis) !== \"undefined\"){\n",
       "   // already loaded: just create the visualization\n",
       "   !function(LDAvis){\n",
       "       new LDAvis(\"#\" + \"ldavis_el10661402645890824406533718871\", ldavis_el10661402645890824406533718871_data);\n",
       "   }(LDAvis);\n",
       "}else if(typeof define === \"function\" && define.amd){\n",
       "   // require.js is available: use it to load d3/LDAvis\n",
       "   require.config({paths: {d3: \"https://cdnjs.cloudflare.com/ajax/libs/d3/3.5.5/d3.min\"}});\n",
       "   require([\"d3\"], function(d3){\n",
       "      window.d3 = d3;\n",
       "      LDAvis_load_lib(\"https://cdn.rawgit.com/bmabey/pyLDAvis/files/ldavis.v1.0.0.js\", function(){\n",
       "        new LDAvis(\"#\" + \"ldavis_el10661402645890824406533718871\", ldavis_el10661402645890824406533718871_data);\n",
       "      });\n",
       "    });\n",
       "}else{\n",
       "    // require.js not available: dynamically load d3 & LDAvis\n",
       "    LDAvis_load_lib(\"https://cdnjs.cloudflare.com/ajax/libs/d3/3.5.5/d3.min.js\", function(){\n",
       "         LDAvis_load_lib(\"https://cdn.rawgit.com/bmabey/pyLDAvis/files/ldavis.v1.0.0.js\", function(){\n",
       "                 new LDAvis(\"#\" + \"ldavis_el10661402645890824406533718871\", ldavis_el10661402645890824406533718871_data);\n",
       "            })\n",
       "         });\n",
       "}\n",
       "</script>"
      ],
      "text/plain": [
       "<IPython.core.display.HTML object>"
      ]
     },
     "execution_count": 14,
     "metadata": {},
     "output_type": "execute_result"
    }
   ],
   "source": [
    "pyLDAvis.display(vis)"
   ]
  },
  {
   "cell_type": "markdown",
   "metadata": {
    "collapsed": true
   },
   "source": [
    "## Publish an interactive SherlockML report"
   ]
  },
  {
   "cell_type": "markdown",
   "metadata": {},
   "source": [
    "The HTML format of SherlocklML reports allows you to create interactive presentations of your data. Why don't you give it a try? Click on the \"Publish\" button on the top right of this page after running this notebook. Then, click on the \"Report\" tab on the left-hand side panel. You should be able to consult your report after a few seconds of processing time. "
   ]
  }
 ],
 "metadata": {
  "anaconda-cloud": {},
  "kernelspec": {
   "display_name": "Python [conda env:Python3]",
   "language": "python",
   "name": "conda-env-Python3-py"
  },
  "language_info": {
   "codemirror_mode": {
    "name": "ipython",
    "version": 3
   },
   "file_extension": ".py",
   "mimetype": "text/x-python",
   "name": "python",
   "nbconvert_exporter": "python",
   "pygments_lexer": "ipython3",
   "version": "3.6.1"
  }
 },
 "nbformat": 4,
 "nbformat_minor": 2
}
